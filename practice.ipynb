{
 "cells": [
  {
   "cell_type": "markdown",
   "metadata": {},
   "source": [
    "43- Accept a number and print its reverse"
   ]
  },
  {
   "cell_type": "code",
   "execution_count": 13,
   "metadata": {},
   "outputs": [
    {
     "name": "stdout",
     "output_type": "stream",
     "text": [
      "321\n"
     ]
    }
   ],
   "source": [
    "n = int(input())\n",
    "\n",
    "ar=0\n",
    "while(n!=0):\n",
    "    a= n%10\n",
    "    ar= ar*10+a\n",
    "    n= n//10\n",
    "print(ar)\n",
    "    \n",
    "    \n"
   ]
  },
  {
   "cell_type": "code",
   "execution_count": 15,
   "metadata": {},
   "outputs": [
    {
     "name": "stdout",
     "output_type": "stream",
     "text": [
      "[[1, 2, 3], [2, 3, 4], [7, 8, 9], [0, 5, 4], [8, 9, 7]]\n"
     ]
    }
   ],
   "source": [
    "arr=[[1,2,3],[2,3,4],[7,8,9],[0,5,4],[8,9,7]]\n",
    "print(arr)"
   ]
  },
  {
   "cell_type": "code",
   "execution_count": 16,
   "metadata": {},
   "outputs": [
    {
     "name": "stdout",
     "output_type": "stream",
     "text": [
      "[0, 1, 2, 3, 4, 5, 6, 7, 8, 9, 10, 11, 12, 13, 14, 15, 16, 17, 18, 19]\n"
     ]
    }
   ],
   "source": [
    "arr=[]\n",
    "for i in range(0,20):\n",
    "    arr.append(i)\n",
    "    i=i-1\n",
    "print(arr)"
   ]
  },
  {
   "cell_type": "code",
   "execution_count": null,
   "metadata": {},
   "outputs": [],
   "source": [
    "arr=[[[[ ]]]]"
   ]
  },
  {
   "cell_type": "code",
   "execution_count": 18,
   "metadata": {},
   "outputs": [
    {
     "name": "stdout",
     "output_type": "stream",
     "text": [
      "[[1. 0. 0. 0. 0.]\n",
      " [0. 1. 0. 0. 0.]\n",
      " [0. 0. 1. 0. 0.]\n",
      " [0. 0. 0. 1. 0.]\n",
      " [0. 0. 0. 0. 1.]]\n"
     ]
    }
   ],
   "source": [
    "## identity matrix 5x5\n",
    "import numpy as np \n",
    "ar = np.eye(5,5)\n",
    "print(ar)\n"
   ]
  },
  {
   "cell_type": "code",
   "execution_count": 19,
   "metadata": {},
   "outputs": [
    {
     "name": "stdout",
     "output_type": "stream",
     "text": [
      "[0.00000000e+000 1.07179897e-311 1.07179897e-311 1.07179897e-311]\n"
     ]
    }
   ],
   "source": [
    "import numpy\n",
    "arr = numpy.empty(4)\n",
    "print(arr)"
   ]
  },
  {
   "cell_type": "code",
   "execution_count": 5,
   "metadata": {},
   "outputs": [
    {
     "name": "stdout",
     "output_type": "stream",
     "text": [
      "[2.0, 3.0]\n"
     ]
    }
   ],
   "source": [
    "if __name__ == '__main__':\n",
    "    bag=[]\n",
    "    for _ in range(int(input())):\n",
    "        name = input()\n",
    "        score = float(input())\n",
    "        bag.append([name,score])\n",
    "    \n",
    "    second= sorted(list(set([x[1] for x in bag])))\n",
    "    print(second)\n",
    "    "
   ]
  },
  {
   "cell_type": "code",
   "execution_count": 13,
   "metadata": {},
   "outputs": [
    {
     "name": "stdout",
     "output_type": "stream",
     "text": [
      "[2, 1]\n"
     ]
    }
   ],
   "source": [
    "n = int(input())\n",
    "list= []\n",
    "for x in range(n):   \n",
    "    inpt= input().split()\n",
    "    if (inpt[0]==\"append\"):\n",
    "        list.append(int(inpt[1]))\n",
    "    elif(inpt[0]==\"insert\"):\n",
    "        list.insert(int(inpt[1]),int(inpt[2]))\n",
    "    elif(inpt(0)== \"print\"):\n",
    "        print(list)\n",
    "    elif(inpt(0)==\"sort\"):\n",
    "        list.sort()\n",
    "    elif(inpt(0)==\"reverse\"):\n",
    "        list.reverse()\n",
    "    elif(inpt(0)==\"pop\")\n",
    "        list.pop()\n"
   ]
  },
  {
   "cell_type": "code",
   "execution_count": 5,
   "metadata": {},
   "outputs": [
    {
     "data": {
      "text/plain": [
       "1"
      ]
     },
     "execution_count": 5,
     "metadata": {},
     "output_type": "execute_result"
    }
   ],
   "source": [
    "51%2\n"
   ]
  },
  {
   "cell_type": "markdown",
   "metadata": {},
   "source": [
    "\n",
    " \n",
    "# Calling above method over this array set\n",
    "print(findLargest([10, 20, 4, 45, 99]))"
   ]
  },
  {
   "cell_type": "code",
   "execution_count": 2,
   "metadata": {},
   "outputs": [
    {
     "name": "stdout",
     "output_type": "stream",
     "text": [
      "99\n"
     ]
    }
   ],
   "source": [
    "def findLargest(arr):\n",
    "    secondLargest = 0\n",
    "    largest = min(arr)\n",
    " \n",
    "    for i in range(len(arr)):\n",
    "        if arr[i] > largest:\n",
    "            secondLargest = largest\n",
    "            largest = arr[i]\n",
    "        else:\n",
    "            secondLargest = max(secondLargest, arr[i])\n",
    " \n",
    "    # Returning second largest element\n",
    "    return secondLargest\n",
    " \n",
    " \n",
    "# Calling above method over this array set\n",
    "print(findLargest([10, 20, 99, 45, 99]))"
   ]
  },
  {
   "cell_type": "code",
   "execution_count": 19,
   "metadata": {},
   "outputs": [
    {
     "name": "stdout",
     "output_type": "stream",
     "text": [
      "0\n"
     ]
    }
   ],
   "source": [
    "if __name__ == '__main__':\n",
    "    n = int(input())\n",
    "    y=0\n",
    "    a = list(map(int, input().strip().split()))\n",
    "    maxim= max(list(a))\n",
    "    srt= a.sort()\n",
    "    for i in range(n-1,0):\n",
    "        if (srt[i]!= maxim):\n",
    "            srt[i]=y\n",
    "            break\n",
    "    print(y)\n",
    "        \n",
    "        \n",
    "        \n",
    "   \n"
   ]
  },
  {
   "cell_type": "code",
   "execution_count": 23,
   "metadata": {},
   "outputs": [
    {
     "name": "stdout",
     "output_type": "stream",
     "text": [
      "5\n"
     ]
    }
   ],
   "source": [
    "if __name__ == '__main__':\n",
    "    n = int(input())\n",
    "    a = list(map(int, input().strip().split()))\n",
    "    \n",
    "    # Find the maximum element\n",
    "    maxim = max(a)\n",
    "    \n",
    "    # Remove duplicates and sort the list in ascending order\n",
    "    unique_sorted = sorted(set(a))\n",
    "    \n",
    "    # If there are at least two unique elements\n",
    "    if len(unique_sorted) >= 2:\n",
    "        \n",
    "        second_largest = unique_sorted[-2]\n",
    "        print(second_largest)\n",
    "    else:\n",
    "        # There is no second largest element\n",
    "        print(\"There is no second largest element.\")\n"
   ]
  },
  {
   "cell_type": "code",
   "execution_count": 14,
   "metadata": {},
   "outputs": [
    {
     "name": "stdout",
     "output_type": "stream",
     "text": [
      "*************************************\n"
     ]
    }
   ],
   "source": [
    "for i in range(0,6):\n",
    "    for j in range(0,6):\n",
    "        print('*', end='')\n",
    "        i=i-1\n",
    "print(\"*\")\n",
    "    \n"
   ]
  },
  {
   "cell_type": "markdown",
   "metadata": {},
   "source": [
    "68- Take 2 numbers as inputs and find their HCF."
   ]
  },
  {
   "cell_type": "code",
   "execution_count": 10,
   "metadata": {},
   "outputs": [
    {
     "name": "stdout",
     "output_type": "stream",
     "text": [
      "6\n"
     ]
    }
   ],
   "source": [
    "number1,number2= map(int,input().split())\n",
    "\n",
    "a= min(number1,number2)\n",
    "\n",
    "hcf=1\n",
    "\n",
    "for i in range(1,a):\n",
    "     if (number1%i==0 and number2%i==0):\n",
    "          hcf=i\n",
    "          \n",
    "print(hcf)\n",
    "     \n"
   ]
  },
  {
   "cell_type": "code",
   "execution_count": null,
   "metadata": {},
   "outputs": [],
   "source": [
    "n= int(input())\n",
    "for i in range (1,n-1):\n",
    "    for j in range(0,)\n",
    "    "
   ]
  }
 ],
 "metadata": {
  "kernelspec": {
   "display_name": "Python 3",
   "language": "python",
   "name": "python3"
  },
  "language_info": {
   "codemirror_mode": {
    "name": "ipython",
    "version": 3
   },
   "file_extension": ".py",
   "mimetype": "text/x-python",
   "name": "python",
   "nbconvert_exporter": "python",
   "pygments_lexer": "ipython3",
   "version": "3.12.1"
  }
 },
 "nbformat": 4,
 "nbformat_minor": 2
}
